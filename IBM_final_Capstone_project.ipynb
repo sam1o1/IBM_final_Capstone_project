{
  "nbformat": 4,
  "nbformat_minor": 0,
  "metadata": {
    "colab": {
      "name": "IBM_final_Capstone_project.ipynb",
      "provenance": []
    },
    "kernelspec": {
      "name": "python3",
      "display_name": "Python 3"
    }
  },
  "cells": [
    {
      "cell_type": "markdown",
      "metadata": {
        "id": "duoyjih-vjGC"
      },
      "source": [
        "IBM Capstone project "
      ]
    },
    {
      "cell_type": "markdown",
      "metadata": {
        "id": "7wcj1nwsu4Yq"
      },
      "source": [
        "\r\n",
        "This Notebook will be mainly used for IBM data science professional certificate capstone project on Coursera. \r\n"
      ]
    },
    {
      "cell_type": "code",
      "metadata": {
        "id": "xV5WqCJHvgLS"
      },
      "source": [
        "import pandas as pd\r\n",
        "import numpy as np"
      ],
      "execution_count": 1,
      "outputs": []
    },
    {
      "cell_type": "code",
      "metadata": {
        "colab": {
          "base_uri": "https://localhost:8080/"
        },
        "id": "L397bLrowBSX",
        "outputId": "52f90ac1-964f-49e0-c81a-501802870b7b"
      },
      "source": [
        "print(\"Hello Capstone Project Course!\")"
      ],
      "execution_count": 3,
      "outputs": [
        {
          "output_type": "stream",
          "text": [
            "Hello Capstone Project Course!\n"
          ],
          "name": "stdout"
        }
      ]
    },
    {
      "cell_type": "code",
      "metadata": {
        "id": "x-yiecv2wPL7"
      },
      "source": [
        ""
      ],
      "execution_count": null,
      "outputs": []
    }
  ]
}